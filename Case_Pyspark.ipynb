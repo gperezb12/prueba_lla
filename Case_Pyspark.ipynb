{
  "cells": [
    {
      "cell_type": "markdown",
      "source": [
        "For excecution, go to: https://drive.google.com/file/d/10l9ekdvLgXTOqEyskDkyo1lpumFWA9q5/view?usp=sharing"
      ],
      "metadata": {
        "id": "OSmcrXED9g72"
      }
    },
    {
      "cell_type": "code",
      "execution_count": null,
      "metadata": {
        "colab": {
          "base_uri": "https://localhost:8080/",
          "height": 254
        },
        "id": "RyBXCxugT5ON",
        "outputId": "010139e3-1f45-4f7c-ed04-fd551ec662ec"
      },
      "outputs": [
        {
          "output_type": "stream",
          "name": "stdout",
          "text": [
            "Requirement already satisfied: pyspark in /usr/local/lib/python3.11/dist-packages (3.5.4)\n",
            "Requirement already satisfied: py4j==0.10.9.7 in /usr/local/lib/python3.11/dist-packages (from pyspark) (0.10.9.7)\n"
          ]
        },
        {
          "output_type": "execute_result",
          "data": {
            "text/plain": [
              "<pyspark.sql.session.SparkSession at 0x7e7319b7ef90>"
            ],
            "text/html": [
              "\n",
              "            <div>\n",
              "                <p><b>SparkSession - in-memory</b></p>\n",
              "                \n",
              "        <div>\n",
              "            <p><b>SparkContext</b></p>\n",
              "\n",
              "            <p><a href=\"http://cb9dfb1201f2:4050\">Spark UI</a></p>\n",
              "\n",
              "            <dl>\n",
              "              <dt>Version</dt>\n",
              "                <dd><code>v3.5.4</code></dd>\n",
              "              <dt>Master</dt>\n",
              "                <dd><code>local</code></dd>\n",
              "              <dt>AppName</dt>\n",
              "                <dd><code>Colab</code></dd>\n",
              "            </dl>\n",
              "        </div>\n",
              "        \n",
              "            </div>\n",
              "        "
            ]
          },
          "metadata": {},
          "execution_count": 2
        }
      ],
      "source": [
        "!pip install pyspark\n",
        "\n",
        "from pyspark.sql import SparkSession\n",
        "spark = SparkSession.builder\\\n",
        "        .master(\"local\")\\\n",
        "        .appName(\"Colab\")\\\n",
        "        .config('spark.ui.port', '4050')\\\n",
        "        .getOrCreate()\n",
        "spark"
      ]
    },
    {
      "cell_type": "markdown",
      "metadata": {
        "id": "Ts_akECi6hvN"
      },
      "source": [
        "# Import Libraries"
      ]
    },
    {
      "cell_type": "code",
      "execution_count": null,
      "metadata": {
        "id": "tTNYekdP6g9G"
      },
      "outputs": [],
      "source": [
        "from pyspark.sql.functions import col, lit, count, abs, first, round, sum, collect_list, floor,struct, sqrt, pow, array, expr,current_date\n",
        "from pyspark.sql.types import StringType, IntegerType, DoubleType\n",
        "from pyspark.sql import DataFrame"
      ]
    },
    {
      "cell_type": "markdown",
      "metadata": {
        "id": "y1b6GK9247zb"
      },
      "source": [
        "## Loading Data"
      ]
    },
    {
      "cell_type": "code",
      "execution_count": null,
      "metadata": {
        "id": "n70h1G7clv3O",
        "colab": {
          "base_uri": "https://localhost:8080/"
        },
        "outputId": "71c3eff0-8702-482e-8a09-f3e2e9b0f55e"
      },
      "outputs": [
        {
          "output_type": "stream",
          "name": "stdout",
          "text": [
            "Mounted at /content/drive\n"
          ]
        }
      ],
      "source": [
        "from google.colab import drive\n",
        "drive.mount('/content/drive')"
      ]
    },
    {
      "cell_type": "code",
      "execution_count": null,
      "metadata": {
        "colab": {
          "base_uri": "https://localhost:8080/"
        },
        "id": "NnDhjYAU3Cc5",
        "outputId": "f08c92bc-7fd0-4a4d-e421-89658086e6bb"
      },
      "outputs": [
        {
          "output_type": "stream",
          "name": "stdout",
          "text": [
            "total 8\n",
            "drwx------ 2 root root 4096 Feb 18 17:12 geo\n",
            "drwx------ 2 root root 4096 Feb 18 17:12 labels\n"
          ]
        }
      ],
      "source": [
        "!ls -l drive/'My Drive'/prueba_lla/data_sample"
      ]
    },
    {
      "cell_type": "code",
      "execution_count": null,
      "metadata": {
        "colab": {
          "base_uri": "https://localhost:8080/"
        },
        "id": "_YpinYj9tufd",
        "outputId": "d551a647-3104-48c5-f802-586096f17ef5"
      },
      "outputs": [
        {
          "output_type": "stream",
          "name": "stdout",
          "text": [
            "Number of Rows = 611959\n",
            "+------------------+-----------------+--------------------+--------------------+\n",
            "|           latitud|         longitud|              comuna|                  ID|\n",
            "+------------------+-----------------+--------------------+--------------------+\n",
            "|  353894.669721904|6301392.600521904|b13b671cb296c1ce5...|ab6f6062e7fac953a...|\n",
            "| 297273.7487498676|6271440.347349868|d10ad8071d7270bc1...|b12fac130e9008be6...|\n",
            "|172956.24831402366|5702581.978114024|20c5891e1d78fe2f3...|cf29a4e836a1c4ba4...|\n",
            "| 135846.1650072791|5920764.953007279|c51ed7a673a2184f2...|46b48d3aa7694ae78...|\n",
            "|351678.75214929937|6282760.015749299|8e7e23148e55a25a0...|c86eb4ca0aeb0a981...|\n",
            "+------------------+-----------------+--------------------+--------------------+\n",
            "only showing top 5 rows\n",
            "\n"
          ]
        }
      ],
      "source": [
        "geo = spark.read.parquet(\"drive/My Drive/prueba_lla/data_sample/geo/*\", header=True)\n",
        "print(f\"Number of Rows = {geo.count()}\")\n",
        "geo.show(5)"
      ]
    },
    {
      "cell_type": "code",
      "execution_count": null,
      "metadata": {
        "colab": {
          "base_uri": "https://localhost:8080/"
        },
        "id": "eRQSAqlktuv_",
        "outputId": "fd3cd009-0b0e-4f4f-9301-894a2d37d97b"
      },
      "outputs": [
        {
          "output_type": "stream",
          "name": "stdout",
          "text": [
            "Number of Rows = 84435\n",
            "+--------------------+-----+\n",
            "|                  ID|event|\n",
            "+--------------------+-----+\n",
            "|ea165b785d74859a9...|    2|\n",
            "|558d0ed3e3cf87a3d...|    2|\n",
            "|2da14424526a7d741...|    2|\n",
            "|8f619aaa096c4e9da...|    2|\n",
            "|cabf40eac3538e1a6...|    1|\n",
            "+--------------------+-----+\n",
            "only showing top 5 rows\n",
            "\n"
          ]
        }
      ],
      "source": [
        "labels = spark.read.parquet(\"drive/My Drive/prueba_lla/data_sample/labels/*\", header=True)\n",
        "print(f\"Number of Rows = {labels.count()}\")\n",
        "labels.show(5)"
      ]
    },
    {
      "cell_type": "markdown",
      "source": [
        "Joining the two dfs"
      ],
      "metadata": {
        "id": "hi-jXPRB9FWA"
      }
    },
    {
      "cell_type": "code",
      "source": [
        "merged_df = geo.join(labels, on=\"ID\", how=\"left\")\n",
        "\n",
        "cleaned_df = merged_df.groupBy(\"ID\").agg(\n",
        "    first(\"comuna\").alias(\"comuna\"),\n",
        "    first(\"latitud\").alias(\"latitud\"),\n",
        "    first(\"longitud\").alias(\"longitud\"),\n",
        "    collect_list(\"event\").alias(\"event\")  # Guarda una lista de todos los eventos que tiene un cliente\n",
        ")\n",
        "\n",
        "print(f\"Number of Rows = {cleaned_df.count()}\")\n",
        "cleaned_df.show(10)"
      ],
      "metadata": {
        "colab": {
          "base_uri": "https://localhost:8080/"
        },
        "id": "_sd5k7le9I5p",
        "outputId": "96dd8c97-dd28-4c28-a1f2-9160f75e7d2c"
      },
      "execution_count": null,
      "outputs": [
        {
          "output_type": "stream",
          "name": "stdout",
          "text": [
            "Number of Rows = 601709\n",
            "+--------------------+--------------------+------------------+------------------+-----+\n",
            "|                  ID|              comuna|           latitud|          longitud|event|\n",
            "+--------------------+--------------------+------------------+------------------+-----+\n",
            "|000002d58f027143d...|7bf0aaf9628a3371b...| 326084.2961682221| 6279531.062668222|   []|\n",
            "|000057bee0e812792...|a532cdd0fac620d39...| 258275.9814788573| 6341931.224259003|   []|\n",
            "|00005fe9d2e7a9d12...|5fa3a58d4e35efd78...|342015.01299357676|6298414.1473696055|  [2]|\n",
            "|000072d007dc1f2cb...|44e33af5f4c88c82d...| 337544.0182890504| 6307956.648998858|   []|\n",
            "|0000b43cdeba529f3...|c1085325d225ba129...|341918.86591499206| 6283674.388114992|   []|\n",
            "|0000bbef22650c35d...|41746729733b29ef3...|386112.16969119024| 7757299.506275459|   []|\n",
            "|0000d7d338169ee5f...|44e33af5f4c88c82d...|339891.48521050595| 6306511.730410506|   []|\n",
            "|00012403769c505ca...|a1ddd6c69647304a7...|184425.05939029466| 5705525.088733884|   []|\n",
            "|000141f58e230e7c1...|c1085325d225ba129...|341519.37962761626| 6282229.080327616|   []|\n",
            "|000166718d957a9e6...|c51ed7a673a2184f2...|133445.00837749333| 5925665.650777494|   []|\n",
            "+--------------------+--------------------+------------------+------------------+-----+\n",
            "only showing top 10 rows\n",
            "\n"
          ]
        }
      ]
    },
    {
      "cell_type": "markdown",
      "source": [
        "Se define un sistema cartesiano:\n",
        " * A cada punto se le asigna una región de 50m X 50m\n",
        " * Ej: Si un punto se encuentra en (20,30), este está en la grilla (1,1). Si un punto está en (70,30), esté está en la grilla (2,1).\n",
        "\n"
      ],
      "metadata": {
        "id": "CV70izGeXdmI"
      }
    },
    {
      "cell_type": "code",
      "source": [
        "def asignar_grids(df: DataFrame, grid_size: int = 50) -> DataFrame:\n",
        "    \"\"\"\n",
        "    Asigna una cuadrícula (grid_x, grid_y) de tamaño `grid_size` a cada punto en el DataFrame de PySpark.\n",
        "\n",
        "    :param df: DataFrame de PySpark con las columnas 'longitud' y 'latitud'\n",
        "    :param grid_size: Tamaño del grid en metros (por defecto 50m)\n",
        "    :return: DataFrame con la nueva columna 'grid' que contiene las coordenadas del grid (x, y)\n",
        "    \"\"\"\n",
        "    df = df.withColumn(\"grid_x\", floor(col(\"longitud\") / grid_size) + 1)\n",
        "    df = df.withColumn(\"grid_y\", floor(col(\"latitud\") / grid_size) + 1)\n",
        "    df = df.withColumn(\"grid\", struct(col(\"grid_x\").cast(\"int\"), col(\"grid_y\").cast(\"int\")))\n",
        "\n",
        "    return df.drop(\"grid_x\", \"grid_y\")  # Elimina columnas auxiliares si no son necesarias"
      ],
      "metadata": {
        "id": "Y3neOdA0XmQy"
      },
      "execution_count": null,
      "outputs": []
    },
    {
      "cell_type": "code",
      "source": [
        "grid_df = asignar_grids(cleaned_df)"
      ],
      "metadata": {
        "id": "fPEn8TONYeyN"
      },
      "execution_count": null,
      "outputs": []
    },
    {
      "cell_type": "code",
      "source": [
        "grid_df.show(10)"
      ],
      "metadata": {
        "colab": {
          "base_uri": "https://localhost:8080/"
        },
        "id": "jU44xrUtZb4k",
        "outputId": "80f0a57e-ffde-45fa-f54b-04a19007156c"
      },
      "execution_count": null,
      "outputs": [
        {
          "output_type": "stream",
          "name": "stdout",
          "text": [
            "+--------------------+--------------------+------------------+------------------+-----+--------------+\n",
            "|                  ID|              comuna|           latitud|          longitud|event|          grid|\n",
            "+--------------------+--------------------+------------------+------------------+-----+--------------+\n",
            "|000002d58f027143d...|7bf0aaf9628a3371b...| 326084.2961682221| 6279531.062668222|   []|{125591, 6522}|\n",
            "|000057bee0e812792...|a532cdd0fac620d39...| 258275.9814788573| 6341931.224259003|   []|{126839, 5166}|\n",
            "|00005fe9d2e7a9d12...|5fa3a58d4e35efd78...|342015.01299357676|6298414.1473696055|  [2]|{125969, 6841}|\n",
            "|000072d007dc1f2cb...|44e33af5f4c88c82d...| 337544.0182890504| 6307956.648998858|   []|{126160, 6751}|\n",
            "|0000b43cdeba529f3...|c1085325d225ba129...|341918.86591499206| 6283674.388114992|   []|{125674, 6839}|\n",
            "|0000bbef22650c35d...|41746729733b29ef3...|386112.16969119024| 7757299.506275459|   []|{155146, 7723}|\n",
            "|0000d7d338169ee5f...|44e33af5f4c88c82d...|339891.48521050595| 6306511.730410506|   []|{126131, 6798}|\n",
            "|00012403769c505ca...|a1ddd6c69647304a7...|184425.05939029466| 5705525.088733884|   []|{114111, 3689}|\n",
            "|000141f58e230e7c1...|c1085325d225ba129...|341519.37962761626| 6282229.080327616|   []|{125645, 6831}|\n",
            "|000166718d957a9e6...|c51ed7a673a2184f2...|133445.00837749333| 5925665.650777494|   []|{118514, 2669}|\n",
            "+--------------------+--------------------+------------------+------------------+-----+--------------+\n",
            "only showing top 10 rows\n",
            "\n"
          ]
        }
      ]
    },
    {
      "cell_type": "markdown",
      "source": [
        "Encontrar la distancia para los puntos, solo en regiones adyacentes, pues sabemos que todos los puntos más cercanos a 50m están en las regiones adyacentes.\n",
        "\n"
      ],
      "metadata": {
        "id": "2v5j-Uk7aycH"
      }
    },
    {
      "cell_type": "code",
      "source": [
        "from pyspark.sql import DataFrame\n",
        "from pyspark.sql.functions import sqrt, pow, col\n",
        "\n",
        "def calculate_distances(grid_df: DataFrame) -> DataFrame:\n",
        "    \"\"\"\n",
        "    Calcula la distancia entre clientes en grid_df a clientes con eventos en grid_df en un radio de 50 metros,\n",
        "    considerando solo los puntos dentro del mismo grid o en grids adyacentes.\n",
        "    También elimina filas donde ID_geo == ID_event (mismo cliente).\n",
        "\n",
        "    :param grid_df: DataFrame con las columnas ['ID', 'comuna', 'latitud', 'longitud', 'event', 'grid']\n",
        "    :return: DataFrame con las columnas ['ID_geo', 'comuna', 'latitude_geo', 'longitude_geo',\n",
        "                                         'ID_event', 'latitude_event', 'longitude_event', 'event', 'distance']\n",
        "    \"\"\"\n",
        "\n",
        "    # Extraer las coordenadas del grid como columnas separadas con sus nombres reales\n",
        "    grid_df = grid_df.withColumn(\"grid_x\", col(\"grid.col1\")) \\\n",
        "                     .withColumn(\"grid_y\", col(\"grid.col2\"))\n",
        "\n",
        "    # Filtrar clientes que tienen eventos\n",
        "    events_df = grid_df.filter(col(\"event\").isNotNull() & (col(\"event\") != array()))\n",
        "\n",
        "    # Hacer un self-join en la misma comuna y solo en grids cercanos\n",
        "    distance_df = grid_df.alias(\"g1\").join(\n",
        "        events_df.alias(\"g2\"),\n",
        "        (col(\"g1.comuna\") == col(\"g2.comuna\")) &  # Solo en la misma comuna\n",
        "        (\n",
        "            (col(\"g1.grid_x\") == col(\"g2.grid_x\")) & (abs(col(\"g1.grid_y\") - col(\"g2.grid_y\")) <= 1) |\n",
        "            (col(\"g1.grid_y\") == col(\"g2.grid_y\")) & (abs(col(\"g1.grid_x\") - col(\"g2.grid_x\")) <= 1) |\n",
        "            (abs(col(\"g1.grid_x\") - col(\"g2.grid_x\")) == 1) & (abs(col(\"g1.grid_y\") - col(\"g2.grid_y\")) == 1)\n",
        "        ),\n",
        "        \"inner\"\n",
        "    ).filter(col(\"g1.ID\") != col(\"g2.ID\"))  # Eliminar filas donde ID_geo == ID_event\n",
        "\n",
        "    # Calcular la distancia Euclidiana\n",
        "    distance_df = distance_df.withColumn(\n",
        "        \"distance\",\n",
        "        sqrt(\n",
        "            pow(col(\"g1.latitud\") - col(\"g2.latitud\"), 2) +\n",
        "            pow(col(\"g1.longitud\") - col(\"g2.longitud\"), 2)\n",
        "        )\n",
        "    ).filter(col(\"distance\") <= 50)  # Filtrar solo los clientes en un radio de 50m\n",
        "\n",
        "    # Seleccionar las columnas finales\n",
        "    distance_df = distance_df.select(\n",
        "        col(\"g1.ID\").alias(\"ID_geo\"),\n",
        "        col(\"g1.comuna\"),\n",
        "        col(\"g1.latitud\").alias(\"latitude_geo\"),\n",
        "        col(\"g1.longitud\").alias(\"longitude_geo\"),\n",
        "        col(\"g2.ID\").alias(\"ID_event\"),\n",
        "        col(\"g2.latitud\").alias(\"latitude_event\"),\n",
        "        col(\"g2.longitud\").alias(\"longitude_event\"),\n",
        "        col(\"g2.event\"),\n",
        "        col(\"distance\")\n",
        "    )\n",
        "\n",
        "    return distance_df.withColumn(\"date_processed\", current_date()) #Agregar fecha para mantener track semanal\n",
        "\n"
      ],
      "metadata": {
        "id": "NNZFNpK6dkNQ"
      },
      "execution_count": null,
      "outputs": []
    },
    {
      "cell_type": "code",
      "source": [
        "dist_df = calculate_distances(grid_df)\n",
        "print(f\"Number of Rows = {dist_df.count()}\")\n",
        "dist_df.show(10)"
      ],
      "metadata": {
        "colab": {
          "base_uri": "https://localhost:8080/"
        },
        "id": "Rn_c1-JydvR6",
        "outputId": "a5cd604a-c898-49aa-b208-a4ef33ed749b"
      },
      "execution_count": null,
      "outputs": [
        {
          "output_type": "stream",
          "name": "stdout",
          "text": [
            "Number of Rows = 373063\n",
            "+--------------------+--------------------+------------------+------------------+--------------------+------------------+-----------------+-----+------------------+--------------+\n",
            "|              ID_geo|              comuna|      latitude_geo|     longitude_geo|            ID_event|    latitude_event|  longitude_event|event|          distance|date_processed|\n",
            "+--------------------+--------------------+------------------+------------------+--------------------+------------------+-----------------+-----+------------------+--------------+\n",
            "|00944c192e588e812...|f3de540ebefb09aaf...|358859.89315310353| 6307671.723495424|773d9d14c68cc25bc...| 358857.0619159535|6307696.733227695|  [2]|  25.1694777874695|    2025-02-19|\n",
            "|00944c192e588e812...|f3de540ebefb09aaf...|358859.89315310353| 6307671.723495424|657b8c452fcae8946...|358857.83758169226|6307697.508893435|  [2]|25.867201712157765|    2025-02-19|\n",
            "|00e7887af5140e340...|f3de540ebefb09aaf...| 358451.6623842446| 6307001.593334052|aa41f8a93356154a3...| 358485.0771070226|6307002.025413607|  [2]| 33.41751623131583|    2025-02-19|\n",
            "|0129ba9267d30b631...|f3de540ebefb09aaf...| 358849.7154500834|6307689.3867618255|773d9d14c68cc25bc...| 358857.0619159535|6307696.733227695|  [2]|10.389471668838654|    2025-02-19|\n",
            "|0129ba9267d30b631...|f3de540ebefb09aaf...| 358849.7154500834|6307689.3867618255|657b8c452fcae8946...|358857.83758169226|6307697.508893435|  [2]|11.486428677003873|    2025-02-19|\n",
            "|016130da1999c5490...|f3de540ebefb09aaf...| 358665.9364478129|  6308296.93945967|38df863bfeedd3663...| 358665.1161263099|6308296.119138167|  [2]|1.1601097951013788|    2025-02-19|\n",
            "|0179f55d98253796d...|f3de540ebefb09aaf...|359414.84126867633|6307470.8548686765|831328e39ea1c3103...|359397.88991266355|6307453.904162407|  [2]|23.972378140477733|    2025-02-19|\n",
            "|018d631dacc936016...|f3de540ebefb09aaf...|359895.13540077006| 6306987.431800771|40d7b4c7629070e13...| 359869.3480141966|6306952.949238877|  [2]|43.058522745738635|    2025-02-19|\n",
            "|0251a397c8195d21f...|f3de540ebefb09aaf...| 360846.2999590785| 6307307.445947205|6595980dd31cf328b...|360834.80809771427|6307280.748997714|  [2]| 29.06527119613006|    2025-02-19|\n",
            "|0251a397c8195d21f...|f3de540ebefb09aaf...| 360846.2999590785| 6307307.445947205|30e311216ffc12b91...|360833.20278641564|6307279.143686416|  [2]| 31.18579640692327|    2025-02-19|\n",
            "+--------------------+--------------------+------------------+------------------+--------------------+------------------+-----------------+-----+------------------+--------------+\n",
            "only showing top 10 rows\n",
            "\n"
          ]
        }
      ]
    },
    {
      "cell_type": "markdown",
      "source": [
        "Guardar las tablas para los diferentes equipos\n",
        "\n",
        "1. Data scientists: Toda la información - muy granular. Archivo tipo CSV por facilidad\n",
        "2. Analistas: Más agregada Archivo tipo CSV por facilidad\n",
        "\n",
        "Se propone agregar columna de fecha para llevar registro de las semanas\n"
      ],
      "metadata": {
        "id": "0aWB0UjhKrcR"
      }
    },
    {
      "cell_type": "code",
      "source": [
        "#Para los cientificos de datos\n",
        "\n",
        "dist_df_ds = dist_df.withColumn(\"event\", expr(\"concat_ws(',', event)\")) #Cambia el tipo de event\n",
        "dist_df_ds.write.mode(\"append\").csv(\"/processed_data/csv/\", header=True)\n",
        "\n",
        "#Para los analistas\n",
        "\n",
        "# Crear un nuevo DataFrame con solo las columnas requeridas para los analistas\n",
        "dist_simplified_df = dist_df.select(\n",
        "    col(\"ID_geo\"),\n",
        "    col(\"comuna\"),\n",
        "    col(\"ID_event\"),\n",
        "    expr(\"event\"),\n",
        "    col(\"distance\"),\n",
        "    col(\"date_processed\")\n",
        ")\n",
        "dist_simplified_df = dist_df.withColumn(\"event\", expr(\"concat_ws(',', event)\"))\n",
        "\n",
        "# Mostrar los primeros registros para verificar\n",
        "dist_simplified_df.write.mode(\"append\").csv(\"/processed_data_analista/csv/\", header=True)\n",
        "\n"
      ],
      "metadata": {
        "id": "K6z2-in_fxvK"
      },
      "execution_count": null,
      "outputs": []
    },
    {
      "cell_type": "code",
      "source": [
        "dist_df_ds.show(25)"
      ],
      "metadata": {
        "colab": {
          "base_uri": "https://localhost:8080/"
        },
        "id": "NdOR6lqYLvpo",
        "outputId": "dda949a1-1ae0-450d-e8c0-7d36759c89a1"
      },
      "execution_count": null,
      "outputs": [
        {
          "output_type": "stream",
          "name": "stdout",
          "text": [
            "+--------------------+--------------------+------------------+------------------+--------------------+------------------+------------------+-----+------------------+--------------+\n",
            "|              ID_geo|              comuna|      latitude_geo|     longitude_geo|            ID_event|    latitude_event|   longitude_event|event|          distance|date_processed|\n",
            "+--------------------+--------------------+------------------+------------------+--------------------+------------------+------------------+-----+------------------+--------------+\n",
            "|00944c192e588e812...|f3de540ebefb09aaf...|358859.89315310353| 6307671.723495424|773d9d14c68cc25bc...| 358857.0619159535| 6307696.733227695|    2|  25.1694777874695|    2025-02-19|\n",
            "|00944c192e588e812...|f3de540ebefb09aaf...|358859.89315310353| 6307671.723495424|657b8c452fcae8946...|358857.83758169226| 6307697.508893435|    2|25.867201712157765|    2025-02-19|\n",
            "|00e7887af5140e340...|f3de540ebefb09aaf...| 358451.6623842446| 6307001.593334052|aa41f8a93356154a3...| 358485.0771070226| 6307002.025413607|    2| 33.41751623131583|    2025-02-19|\n",
            "|0129ba9267d30b631...|f3de540ebefb09aaf...| 358849.7154500834|6307689.3867618255|773d9d14c68cc25bc...| 358857.0619159535| 6307696.733227695|    2|10.389471668838654|    2025-02-19|\n",
            "|0129ba9267d30b631...|f3de540ebefb09aaf...| 358849.7154500834|6307689.3867618255|657b8c452fcae8946...|358857.83758169226| 6307697.508893435|    2|11.486428677003873|    2025-02-19|\n",
            "|016130da1999c5490...|f3de540ebefb09aaf...| 358665.9364478129|  6308296.93945967|38df863bfeedd3663...| 358665.1161263099| 6308296.119138167|    2|1.1601097951013788|    2025-02-19|\n",
            "|0179f55d98253796d...|f3de540ebefb09aaf...|359414.84126867633|6307470.8548686765|831328e39ea1c3103...|359397.88991266355| 6307453.904162407|    2|23.972378140477733|    2025-02-19|\n",
            "|018d631dacc936016...|f3de540ebefb09aaf...|359895.13540077006| 6306987.431800771|40d7b4c7629070e13...| 359869.3480141966| 6306952.949238877|    2|43.058522745738635|    2025-02-19|\n",
            "|0251a397c8195d21f...|f3de540ebefb09aaf...| 360846.2999590785| 6307307.445947205|6595980dd31cf328b...|360834.80809771427| 6307280.748997714|    2| 29.06527119613006|    2025-02-19|\n",
            "|0251a397c8195d21f...|f3de540ebefb09aaf...| 360846.2999590785| 6307307.445947205|30e311216ffc12b91...|360833.20278641564| 6307279.143686416|    2| 31.18579640692327|    2025-02-19|\n",
            "|02549a23f50221709...|f3de540ebefb09aaf...|359925.86814273143|6306888.1335266605|453c86d12caa4dfdd...| 359928.3391364834| 6306890.603036484|  2,2|3.4934637380826428|    2025-02-19|\n",
            "|02c14a21d7aceda01...|f3de540ebefb09aaf...|359643.18557713676| 6310541.605150887|20193466688518c3e...|  359655.158401368| 6310559.342601367|    2|21.400132467331982|    2025-02-19|\n",
            "|02c14a21d7aceda01...|f3de540ebefb09aaf...|359643.18557713676| 6310541.605150887|7952cef6e8b3b41c8...| 359670.7573177574|  6310561.79975745|    2|34.176351693678804|    2025-02-19|\n",
            "|03016bc75e8d78eb8...|f3de540ebefb09aaf...|358319.18747483974| 6308862.987894298|c7f699727927d3db2...|358316.16964519257|6308867.2165451925|    1| 5.195073066924579|    2025-02-19|\n",
            "|033f5d4336ab29458...|f3de540ebefb09aaf...| 360878.2034780265| 6307265.342035555|6595980dd31cf328b...|360834.80809771427| 6307280.748997714|    2|46.049250975607606|    2025-02-19|\n",
            "|033f5d4336ab29458...|f3de540ebefb09aaf...| 360878.2034780265| 6307265.342035555|30e311216ffc12b91...|360833.20278641564| 6307279.143686416|    2|  47.0696060311334|    2025-02-19|\n",
            "|037629073d0244a98...|f3de540ebefb09aaf...| 359424.5986762269| 6307465.470063623|831328e39ea1c3103...|359397.88991266355| 6307453.904162407|    2| 29.10546550091203|    2025-02-19|\n",
            "|039b2ce881cfafd9d...|f3de540ebefb09aaf...|360001.07126684615|  6306807.96425084|b859fe8eeaabff756...| 359994.1082785441| 6306800.995078544|    2| 9.851526205997693|    2025-02-19|\n",
            "|03e12929f1b1e75cf...|f3de540ebefb09aaf...| 358936.7024866252| 6307182.966186625|331847402856c03ec...| 358933.6637504356| 6307179.927450435|    2| 4.297421931887375|    2025-02-19|\n",
            "|05ebf1b649f9d09d2...|f3de540ebefb09aaf...| 358937.3250416882| 6307183.590020097|331847402856c03ec...| 358933.6637504356| 6307179.927450435|    2|  5.17875179584461|    2025-02-19|\n",
            "|06653478ee552f749...|f3de540ebefb09aaf...|  362067.095101108| 6309542.101174612|ba741f3a7790dd8a6...| 362069.4859190498|  6309535.01396788|    2| 7.479606252109685|    2025-02-19|\n",
            "|067d5b089e87f6117...|f3de540ebefb09aaf...|  360808.719429321| 6307351.241195493|f1f91a514021836a4...|  360813.738196916| 6307356.259963089|    1| 7.097609199453536|    2025-02-19|\n",
            "|067d5b089e87f6117...|f3de540ebefb09aaf...|  360808.719429321| 6307351.241195493|128b489933a0513b7...| 360828.9580165607| 6307364.191443403|    2| 24.02726231567165|    2025-02-19|\n",
            "|06c72c70c8bd70c0e...|f3de540ebefb09aaf...|  359123.212554307| 6306567.171001749|a4c46b60b0481646b...|359137.10123913805| 6306574.036487247|    2|15.492916363798775|    2025-02-19|\n",
            "|06c8ba28aca74900c...|f3de540ebefb09aaf...|359801.46776195377| 6307063.094927874|d4b60832b4475333d...|359804.04550396255| 6307065.672669883|    2| 3.645477708914539|    2025-02-19|\n",
            "+--------------------+--------------------+------------------+------------------+--------------------+------------------+------------------+-----+------------------+--------------+\n",
            "only showing top 25 rows\n",
            "\n"
          ]
        }
      ]
    },
    {
      "cell_type": "code",
      "source": [
        "#Enviar los dos df a buckets en AWS"
      ],
      "metadata": {
        "id": "nY0uvzFxGJgZ"
      },
      "execution_count": null,
      "outputs": []
    },
    {
      "cell_type": "markdown",
      "metadata": {
        "id": "FRD33bKV30np"
      },
      "source": [
        "# Connect SQL Database to SQL (SQL Execution)"
      ]
    },
    {
      "cell_type": "code",
      "execution_count": null,
      "metadata": {
        "id": "pw5Qeh8H4lD0",
        "colab": {
          "base_uri": "https://localhost:8080/"
        },
        "outputId": "70af1c31-a14c-4435-ea2f-539d109e407b"
      },
      "outputs": [
        {
          "output_type": "stream",
          "name": "stdout",
          "text": [
            "Opened database successfully\n"
          ]
        }
      ],
      "source": [
        "# Connection sqlite and init Database\n",
        "import sqlite3\n",
        "\n",
        "conn = sqlite3.connect('datalake_stage.db')\n",
        "print(\"Opened database successfully\");\n",
        "\n",
        "curs = conn.cursor()\n"
      ]
    },
    {
      "cell_type": "markdown",
      "source": [
        "Conectar las tablas a SQL"
      ],
      "metadata": {
        "id": "uz8D4X8fIeLo"
      }
    },
    {
      "cell_type": "code",
      "source": [
        "labels_df_pandas = labels.toPandas()\n",
        "labels_df_pandas.to_sql(\"labels\", conn, if_exists=\"replace\", index=False)\n",
        "print(\"Tabla 'labels' cargada en SQLite\")\n",
        "\n",
        "geo_df_pandas = geo.toPandas()\n",
        "geo_df_pandas.to_sql(\"geo\", conn, if_exists=\"replace\", index=False)\n",
        "print(\"Tabla 'geo' cargada en SQLite\")\n",
        "\n",
        "\n",
        "dist_df_pandas = dist_df_ds.toPandas()\n",
        "dist_df_pandas.to_sql(\"dist\", conn, if_exists=\"replace\", index=False)\n",
        "print(\"Tabla 'dist' cargada en SQLite\")\n",
        "\n",
        "\n",
        "#Esta es la tabla en la que geo y labels están unidas, limpiada de duplicados\n",
        "cleaned_df = cleaned_df.withColumn(\"event\", expr(\"concat_ws(',', event)\")) #Cambia el tipo de event\n",
        "combined_df_pandas = cleaned_df.toPandas()\n",
        "combined_df_pandas.to_sql(\"combined\", conn, if_exists=\"replace\", index=False)\n",
        "print(\"Tabla 'combined' cargada en SQLite\")"
      ],
      "metadata": {
        "id": "0D7vA-htJbFh"
      },
      "execution_count": null,
      "outputs": []
    },
    {
      "cell_type": "markdown",
      "source": [
        "Pruebas de validación"
      ],
      "metadata": {
        "id": "UT1ns4v0Ijp9"
      }
    },
    {
      "cell_type": "code",
      "source": [
        "curs.execute(\"SELECT COUNT(*) FROM labels\")\n",
        "print(\"Total de filas en labels:\", curs.fetchone()[0])\n",
        "\n",
        "curs.execute(\"SELECT COUNT(*) FROM geo\")\n",
        "print(\"Total de filas en geo:\", curs.fetchone()[0])\n",
        "\n",
        "curs.execute(\"\"\"\n",
        "    SELECT ID, COUNT(*)\n",
        "    FROM combined ID\n",
        "    GROUP BY ID\n",
        "    HAVING COUNT(*) > 1\n",
        "\"\"\")\n",
        "print(\"Clientes en 'combined' con duplicados:\", curs.fetchall())\n",
        "\n",
        "#Revisar si hay valores NULL en los ID de la tabla creada\n",
        "curs.execute(\"\"\"\n",
        "    SELECT *\n",
        "    FROM dist\n",
        "    WHERE ID_geo IS NULL OR ID_event IS NULL\n",
        "\"\"\")\n",
        "print(\"Clientes con datos nulos en distance_results:\", curs.fetchall())\n",
        "\n",
        "#Verificar si todos los labels tienen un id en GEO (podemos ver que no es el caso)\n",
        "curs.execute(\"\"\"\n",
        "    SELECT COUNT(*)\n",
        "    FROM labels l\n",
        "    LEFT JOIN geo g ON l.ID = g.ID\n",
        "    WHERE g.ID IS NULL;\n",
        "\"\"\")\n",
        "print(\"Clientes que están en labels y no en geo:\", curs.fetchall())"
      ],
      "metadata": {
        "colab": {
          "base_uri": "https://localhost:8080/"
        },
        "id": "8-9-3cq8Ilqz",
        "outputId": "577782b8-6882-4a7f-bd9c-519933ff3912"
      },
      "execution_count": null,
      "outputs": [
        {
          "output_type": "stream",
          "name": "stdout",
          "text": [
            "Total de filas en labels: 84435\n",
            "Total de filas en geo: 611959\n",
            "Clientes en 'combined' con duplicados: []\n",
            "Clientes con datos nulos en distance_results: []\n",
            "Clientes que están en labels y no en geo: [(20033,)]\n"
          ]
        }
      ]
    },
    {
      "cell_type": "markdown",
      "source": [
        "Encontrar las top 20 comunas con evento 2"
      ],
      "metadata": {
        "id": "3x3mQT1qLft5"
      }
    },
    {
      "cell_type": "code",
      "source": [
        "query_top_20_communes = \"\"\"\n",
        "  SELECT\n",
        "      comuna,\n",
        "      SUM(\n",
        "          LENGTH(event) - LENGTH(REPLACE(event, '2', ''))\n",
        "      ) AS total_eventos\n",
        "  FROM dist\n",
        "  GROUP BY comuna\n",
        "  ORDER BY total_eventos DESC\n",
        "  LIMIT 20;\"\"\"\n",
        "\n",
        "curs.execute(query_top_20_communes)\n",
        "top_20_communes = curs.fetchall()\n",
        "\n",
        "print(\"Top 20 comunas con más eventos tipo 2:\")\n",
        "for row in top_20_communes:\n",
        "    print(row)\n",
        "\n"
      ],
      "metadata": {
        "colab": {
          "base_uri": "https://localhost:8080/"
        },
        "id": "VnlgSSWxMhSt",
        "outputId": "38357516-3333-47d0-da37-a02ba33b3ead"
      },
      "execution_count": null,
      "outputs": [
        {
          "output_type": "stream",
          "name": "stdout",
          "text": [
            "Top 20 comunas con más eventos tipo 2:\n",
            "('192579a17a7c6faf9fa70fcff6bc208aa9187dbe4ea70f69ffd991d180c1f823', 57780)\n",
            "('d6914cd246f4202bf3291abeba40824e6148f7d4042302bcdb449ddf7f5183e1', 28667)\n",
            "('b13b671cb296c1ce5eb94117f308118364cd258b322f61872cc7364dfcf5f2ad', 26748)\n",
            "('630d8cf93464322637f0c27c04d65fd7565a04c43decc27f0f5685a689c23cb2', 22737)\n",
            "('1663f043b1b1201a010d6965765c283b6e068ff0cd071fb7aa6ed1a7fd120172', 18831)\n",
            "('b8df8fb0f19ee92b800af6f7bd277b2c6c0f660ff2ea13ae5bdaba762f92abf2', 15113)\n",
            "('5029af19eafc8e0cf42b8bb6b2d05e7fb8c106e5926a2a03e541916e3f8812aa', 10363)\n",
            "('0bd00d09bd2a382f3f8967d5dd3189af9d2573f6d49a0ba165ffa864cd4fb8bd', 9988)\n",
            "('8e7e23148e55a25a0a788a413727bcf5079c21bc5f7310187fd4132c15404052', 8904)\n",
            "('28c2b23257ff4840a5fb733bda4ffa4757d57a4e923ea8b7cc35556e76e80f0f', 8011)\n",
            "('cc80409f27e2a1b5e3a0feeb3f976bdb13e93ce8144e686c8abdf6762ba6a1a7', 7749)\n",
            "('4a8bc878fecae0db731883c790c3fdfc623220d388a990cf3be6429f214048ad', 7577)\n",
            "('5fa3a58d4e35efd789c577a6f721358b0923c32a6a48f87ddae3b28d285a60fc', 5750)\n",
            "('a532cdd0fac620d3932252b65681c993258383ce0ca78f4933e65185c3cfc462', 5558)\n",
            "('0431501957fefa14ae758497b2d45c95854c570baca6a18f6b5071664b36240e', 4901)\n",
            "('facd8f3822689f21d80a4042339735eec30db3bd282c73bb22c4efccdb327147', 4778)\n",
            "('4233e96b4dacba4ab73e09fdd5bddc2a2e780643a40962ab4c46cb132310108a', 4763)\n",
            "('87ed4f87a842f25728bbf37705ee61260473c042dee8c67308e3b7e9b5628028', 3849)\n",
            "('071f5915a5f86e38e578779469198ac892d1927cc9a426eac32c9d72dd9ffbb2', 3751)\n",
            "('f2edf68ccfd45c7859c1a432a03e63dd831ba6b17bfcf3b7068612eed08830b8', 3318)\n"
          ]
        }
      ]
    },
    {
      "cell_type": "markdown",
      "source": [
        "Calcular datos de eventos tipo 1"
      ],
      "metadata": {
        "id": "H2_b-LJSNb_h"
      }
    },
    {
      "cell_type": "code",
      "source": [
        "query_event1_communes = \"\"\"\n",
        "    CREATE TABLE eventos_tipo_1 AS\n",
        "    SELECT\n",
        "    comuna,\n",
        "    SUM(LENGTH(event) - LENGTH(REPLACE(event, '1', ''))) AS total_events,\n",
        "    SUM(latitude_event * (LENGTH(event) - LENGTH(REPLACE(event, '1', ''))))\n",
        "        / SUM(LENGTH(event) - LENGTH(REPLACE(event, '1', ''))) AS avg_latitude,\n",
        "    MAX(latitude_event) AS max_latitude,\n",
        "    MIN(latitude_event) AS min_latitude,\n",
        "    SUM(longitude_event * (LENGTH(event) - LENGTH(REPLACE(event, '1', ''))))\n",
        "        / SUM(LENGTH(event) - LENGTH(REPLACE(event, '1', ''))) AS avg_longitude,\n",
        "    MAX(longitude_event) AS max_longitude,\n",
        "    MIN(longitude_event) AS min_longitude\n",
        "FROM dist\n",
        "WHERE event LIKE '%1%'\n",
        "GROUP BY comuna;\"\"\"\n",
        "\n",
        "curs.execute(query_event1_communes)\n"
      ],
      "metadata": {
        "id": "uWG9zXF4O7uR"
      },
      "execution_count": null,
      "outputs": []
    },
    {
      "cell_type": "code",
      "source": [
        "import pandas as pd\n",
        "#Guardar nuestra tabla como un df de python\n",
        "curs.execute(\"SELECT * FROM eventos_tipo_1\")\n",
        "rows = curs.fetchall()\n",
        "\n",
        "df = pd.read_sql_query(\"SELECT * FROM eventos_tipo_1\", conn)\n",
        "df.columns = [\n",
        "    \"Comuna\",\n",
        "    \"num eventos tipo1\",\n",
        "    \"avg_latitude\",\n",
        "    \"max_latitude\",\n",
        "    \"min_latitude\",\n",
        "    \"avg_longitude\",\n",
        "    \"max_longitude\",\n",
        "    \"min_longitude\"\n",
        "]\n",
        "\n",
        "print(df.head())\n"
      ],
      "metadata": {
        "colab": {
          "base_uri": "https://localhost:8080/"
        },
        "id": "5bKBo9N1Qikf",
        "outputId": "327a0b78-bef3-4129-d2dc-8fb984582ef3"
      },
      "execution_count": null,
      "outputs": [
        {
          "output_type": "stream",
          "name": "stdout",
          "text": [
            "                                              Comuna  num eventos tipo1  \\\n",
            "0  0431501957fefa14ae758497b2d45c95854c570baca6a1...                306   \n",
            "1  071f5915a5f86e38e578779469198ac892d1927cc9a426...                864   \n",
            "2  0a03fdd5ab558d93c9ba86fc160697c07f2fdf3b187822...                 61   \n",
            "3  0bd00d09bd2a382f3f8967d5dd3189af9d2573f6d49a0b...               1447   \n",
            "4  0d5d4ebd6f3086e733f2862137b0263b0545de5ea654b7...                155   \n",
            "\n",
            "    avg_latitude   max_latitude   min_latitude  avg_longitude  max_longitude  \\\n",
            "0  354003.737470  358140.123202  351226.070286   6.304155e+06   6.306602e+06   \n",
            "1  506741.962394  509672.444713  505156.555366   7.516684e+06   7.519005e+06   \n",
            "2  333950.225758  337184.687306  324869.428447   6.311864e+06   6.314895e+06   \n",
            "3  346477.712303  347837.975686  345229.930985   6.292148e+06   6.294587e+06   \n",
            "4  204097.798510  205835.812184  201701.016968   5.847112e+06   5.850084e+06   \n",
            "\n",
            "   min_longitude  \n",
            "0   6.302591e+06  \n",
            "1   7.512947e+06  \n",
            "2   6.310927e+06  \n",
            "3   6.290352e+06  \n",
            "4   5.844658e+06  \n"
          ]
        }
      ]
    },
    {
      "cell_type": "code",
      "execution_count": null,
      "metadata": {
        "id": "DaKvotDN30nq"
      },
      "outputs": [],
      "source": [
        "# Close connection to save the db in file datalake_stage.db\n",
        "conn.close()"
      ]
    },
    {
      "cell_type": "code",
      "execution_count": null,
      "metadata": {
        "id": "iMcVaDcXtu_x",
        "colab": {
          "base_uri": "https://localhost:8080/"
        },
        "outputId": "b764046c-62ff-4ff5-cd61-6e79d7b068d9"
      },
      "outputs": [
        {
          "output_type": "stream",
          "name": "stdout",
          "text": [
            "The sql extension is already loaded. To reload it, use:\n",
            "  %reload_ext sql\n"
          ]
        }
      ],
      "source": [
        "# We will first load an sql extension into our environment\n",
        "# This extension will allow us to work with sql on Colaboratory\n",
        "#\n",
        "%load_ext sql\n",
        "\n",
        "# We will then connect to our in memory sqlite database\n",
        "# NB: This database will cease to exist as soon as the database connection is closed.\n",
        "# We will learn more about how databases are created later in prep.\n",
        "#\n",
        "%sql sqlite:///datalake_stage.db\n",
        "# Nothing to do here"
      ]
    },
    {
      "cell_type": "code",
      "source": [
        " %reload_ext sql"
      ],
      "metadata": {
        "id": "wfv5I5bLIC9E"
      },
      "execution_count": null,
      "outputs": []
    }
  ],
  "metadata": {
    "colab": {
      "provenance": []
    },
    "kernelspec": {
      "display_name": "Python 3",
      "name": "python3"
    },
    "language_info": {
      "name": "python"
    }
  },
  "nbformat": 4,
  "nbformat_minor": 0
}