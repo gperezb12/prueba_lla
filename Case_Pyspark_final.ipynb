{
  "cells": [
    {
      "cell_type": "markdown",
      "metadata": {
        "id": "OSmcrXED9g72"
      },
      "source": [
        "For excecution, go to: https://drive.google.com/file/d/10l9ekdvLgXTOqEyskDkyo1lpumFWA9q5/view?usp=sharing"
      ]
    },
    {
      "cell_type": "markdown",
      "metadata": {},
      "source": [
        "This code contains a more detailed explenation of the ETL creation process"
      ]
    },
    {
      "cell_type": "code",
      "execution_count": 1,
      "metadata": {
        "colab": {
          "base_uri": "https://localhost:8080/",
          "height": 254
        },
        "id": "RyBXCxugT5ON",
        "outputId": "9c7bc7ca-ef9f-4d40-b22c-a2288d4f376f"
      },
      "outputs": [
        {
          "name": "stdout",
          "output_type": "stream",
          "text": [
            "Requirement already satisfied: pyspark in /usr/local/lib/python3.11/dist-packages (3.5.4)\n",
            "Requirement already satisfied: py4j==0.10.9.7 in /usr/local/lib/python3.11/dist-packages (from pyspark) (0.10.9.7)\n"
          ]
        },
        {
          "data": {
            "text/html": [
              "\n",
              "            <div>\n",
              "                <p><b>SparkSession - in-memory</b></p>\n",
              "                \n",
              "        <div>\n",
              "            <p><b>SparkContext</b></p>\n",
              "\n",
              "            <p><a href=\"http://acc573dc33d2:4050\">Spark UI</a></p>\n",
              "\n",
              "            <dl>\n",
              "              <dt>Version</dt>\n",
              "                <dd><code>v3.5.4</code></dd>\n",
              "              <dt>Master</dt>\n",
              "                <dd><code>local</code></dd>\n",
              "              <dt>AppName</dt>\n",
              "                <dd><code>Colab</code></dd>\n",
              "            </dl>\n",
              "        </div>\n",
              "        \n",
              "            </div>\n",
              "        "
            ],
            "text/plain": [
              "<pyspark.sql.session.SparkSession at 0x7a09da691090>"
            ]
          },
          "execution_count": 1,
          "metadata": {},
          "output_type": "execute_result"
        }
      ],
      "source": [
        "!pip install pyspark\n",
        "\n",
        "from pyspark.sql import SparkSession\n",
        "spark = SparkSession.builder\\\n",
        "        .master(\"local\")\\\n",
        "        .appName(\"Colab\")\\\n",
        "        .config('spark.ui.port', '4050')\\\n",
        "        .getOrCreate()\n",
        "spark"
      ]
    },
    {
      "cell_type": "markdown",
      "metadata": {
        "id": "Ts_akECi6hvN"
      },
      "source": [
        "# Import Libraries"
      ]
    },
    {
      "cell_type": "code",
      "execution_count": 13,
      "metadata": {
        "id": "tTNYekdP6g9G"
      },
      "outputs": [],
      "source": [
        "from pyspark.sql.functions import col, lit, count, abs, first, round, sum, collect_list, floor,struct, sqrt, pow, array, expr,current_date,size\n",
        "from pyspark.sql.types import StringType, IntegerType, DoubleType\n",
        "from pyspark.sql import DataFrame\n"
      ]
    },
    {
      "cell_type": "markdown",
      "metadata": {
        "id": "y1b6GK9247zb"
      },
      "source": [
        "## Loading Data"
      ]
    },
    {
      "cell_type": "code",
      "execution_count": 3,
      "metadata": {
        "colab": {
          "base_uri": "https://localhost:8080/"
        },
        "id": "n70h1G7clv3O",
        "outputId": "4b6a2f32-3a89-46d4-833d-b0e7ed12a54c"
      },
      "outputs": [
        {
          "name": "stdout",
          "output_type": "stream",
          "text": [
            "Mounted at /content/drive\n"
          ]
        }
      ],
      "source": [
        "from google.colab import drive\n",
        "drive.mount('/content/drive')"
      ]
    },
    {
      "cell_type": "code",
      "execution_count": 4,
      "metadata": {
        "colab": {
          "base_uri": "https://localhost:8080/"
        },
        "id": "NnDhjYAU3Cc5",
        "outputId": "67ec4d6c-c8d1-4868-e9cc-cf1a8200c578"
      },
      "outputs": [
        {
          "name": "stdout",
          "output_type": "stream",
          "text": [
            "total 8\n",
            "drwx------ 2 root root 4096 Feb 18 17:12 geo\n",
            "drwx------ 2 root root 4096 Feb 18 17:12 labels\n"
          ]
        }
      ],
      "source": [
        "!ls -l drive/'My Drive'/prueba_lla/data_sample"
      ]
    },
    {
      "cell_type": "code",
      "execution_count": 5,
      "metadata": {
        "colab": {
          "base_uri": "https://localhost:8080/"
        },
        "id": "_YpinYj9tufd",
        "outputId": "9a0c0104-ce28-41f2-aa2b-dbbf7b6e4083"
      },
      "outputs": [
        {
          "name": "stdout",
          "output_type": "stream",
          "text": [
            "Number of Rows = 611959\n",
            "+------------------+-----------------+--------------------+--------------------+\n",
            "|           latitud|         longitud|              comuna|                  ID|\n",
            "+------------------+-----------------+--------------------+--------------------+\n",
            "|  353894.669721904|6301392.600521904|b13b671cb296c1ce5...|ab6f6062e7fac953a...|\n",
            "| 297273.7487498676|6271440.347349868|d10ad8071d7270bc1...|b12fac130e9008be6...|\n",
            "|172956.24831402366|5702581.978114024|20c5891e1d78fe2f3...|cf29a4e836a1c4ba4...|\n",
            "| 135846.1650072791|5920764.953007279|c51ed7a673a2184f2...|46b48d3aa7694ae78...|\n",
            "|351678.75214929937|6282760.015749299|8e7e23148e55a25a0...|c86eb4ca0aeb0a981...|\n",
            "+------------------+-----------------+--------------------+--------------------+\n",
            "only showing top 5 rows\n",
            "\n"
          ]
        }
      ],
      "source": [
        "geo = spark.read.parquet(\"drive/My Drive/prueba_lla/data_sample/geo/*\", header=True)\n",
        "print(f\"Number of Rows = {geo.count()}\")\n",
        "geo.show(5)"
      ]
    },
    {
      "cell_type": "code",
      "execution_count": 6,
      "metadata": {
        "colab": {
          "base_uri": "https://localhost:8080/"
        },
        "id": "eRQSAqlktuv_",
        "outputId": "f79fc004-cc0b-44c0-fcb2-b45b78c516af"
      },
      "outputs": [
        {
          "name": "stdout",
          "output_type": "stream",
          "text": [
            "Number of Rows = 84435\n",
            "+--------------------+-----+\n",
            "|                  ID|event|\n",
            "+--------------------+-----+\n",
            "|ea165b785d74859a9...|    2|\n",
            "|558d0ed3e3cf87a3d...|    2|\n",
            "|2da14424526a7d741...|    2|\n",
            "|8f619aaa096c4e9da...|    2|\n",
            "|cabf40eac3538e1a6...|    1|\n",
            "+--------------------+-----+\n",
            "only showing top 5 rows\n",
            "\n"
          ]
        }
      ],
      "source": [
        "labels = spark.read.parquet(\"drive/My Drive/prueba_lla/data_sample/labels/*\", header=True)\n",
        "print(f\"Number of Rows = {labels.count()}\")\n",
        "labels.show(5)"
      ]
    },
    {
      "cell_type": "markdown",
      "metadata": {
        "id": "hi-jXPRB9FWA"
      },
      "source": [
        "Joining the two dfs"
      ]
    },
    {
      "cell_type": "code",
      "execution_count": 7,
      "metadata": {
        "colab": {
          "base_uri": "https://localhost:8080/"
        },
        "id": "_sd5k7le9I5p",
        "outputId": "9b2365a4-27ac-42ca-af65-42004a5a1056"
      },
      "outputs": [
        {
          "name": "stdout",
          "output_type": "stream",
          "text": [
            "Number of Rows = 601709\n",
            "+--------------------+--------------------+------------------+------------------+-----+\n",
            "|                  ID|              comuna|           latitud|          longitud|event|\n",
            "+--------------------+--------------------+------------------+------------------+-----+\n",
            "|000002d58f027143d...|7bf0aaf9628a3371b...| 326084.2961682221| 6279531.062668222|   []|\n",
            "|000057bee0e812792...|a532cdd0fac620d39...| 258275.9814788573| 6341931.224259003|   []|\n",
            "|00005fe9d2e7a9d12...|5fa3a58d4e35efd78...|342015.01299357676|6298414.1473696055|  [2]|\n",
            "|000072d007dc1f2cb...|44e33af5f4c88c82d...| 337544.0182890504| 6307956.648998858|   []|\n",
            "|0000b43cdeba529f3...|c1085325d225ba129...|341918.86591499206| 6283674.388114992|   []|\n",
            "|0000bbef22650c35d...|41746729733b29ef3...|386112.16969119024| 7757299.506275459|   []|\n",
            "|0000d7d338169ee5f...|44e33af5f4c88c82d...|339891.48521050595| 6306511.730410506|   []|\n",
            "|00012403769c505ca...|a1ddd6c69647304a7...|184425.05939029466| 5705525.088733884|   []|\n",
            "|000141f58e230e7c1...|c1085325d225ba129...|341519.37962761626| 6282229.080327616|   []|\n",
            "|000166718d957a9e6...|c51ed7a673a2184f2...|133445.00837749333| 5925665.650777494|   []|\n",
            "+--------------------+--------------------+------------------+------------------+-----+\n",
            "only showing top 10 rows\n",
            "\n"
          ]
        }
      ],
      "source": [
        "merged_df = geo.join(labels, on=\"ID\", how=\"left\")\n",
        "\n",
        "cleaned_df = merged_df.groupBy(\"ID\").agg(\n",
        "    first(\"comuna\").alias(\"comuna\"),\n",
        "    first(\"latitud\").alias(\"latitud\"),\n",
        "    first(\"longitud\").alias(\"longitud\"),\n",
        "    collect_list(\"event\").alias(\"event\")  # Guarda una lista de todos los eventos que tiene un cliente\n",
        ")\n",
        "\n",
        "print(f\"Number of Rows = {cleaned_df.count()}\")\n",
        "cleaned_df.show(10)"
      ]
    },
    {
      "cell_type": "markdown",
      "metadata": {
        "id": "CV70izGeXdmI"
      },
      "source": [
        "Se define un sistema cartesiano:\n",
        " * A cada punto se le asigna una región de 50m X 50m\n",
        " * Ej: Si un punto se encuentra en (20,30), este está en la grilla (1,1). Si un punto está en (70,30), esté está en la grilla (2,1).\n",
        "\n"
      ]
    },
    {
      "cell_type": "code",
      "execution_count": 8,
      "metadata": {
        "id": "Y3neOdA0XmQy"
      },
      "outputs": [],
      "source": [
        "def asignar_grids(df: DataFrame, grid_size: int = 50) -> DataFrame:\n",
        "    \"\"\"\n",
        "    Asigna una cuadrícula (grid_x, grid_y) de tamaño `grid_size` a cada punto en el DataFrame de PySpark.\n",
        "\n",
        "    :param df: DataFrame de PySpark con las columnas 'longitud' y 'latitud'\n",
        "    :param grid_size: Tamaño del grid en metros (por defecto 50m)\n",
        "    :return: DataFrame con la nueva columna 'grid' que contiene las coordenadas del grid (x, y)\n",
        "    \"\"\"\n",
        "    df = df.withColumn(\"grid_x\", floor(col(\"longitud\") / grid_size) + 1)\n",
        "    df = df.withColumn(\"grid_y\", floor(col(\"latitud\") / grid_size) + 1)\n",
        "    df = df.withColumn(\"grid\", struct(col(\"grid_x\").cast(\"int\"), col(\"grid_y\").cast(\"int\")))\n",
        "\n",
        "    return df.drop(\"grid_x\", \"grid_y\")  # Elimina columnas auxiliares si no son necesarias"
      ]
    },
    {
      "cell_type": "code",
      "execution_count": 9,
      "metadata": {
        "id": "fPEn8TONYeyN"
      },
      "outputs": [],
      "source": [
        "grid_df = asignar_grids(cleaned_df)"
      ]
    },
    {
      "cell_type": "code",
      "execution_count": null,
      "metadata": {
        "colab": {
          "base_uri": "https://localhost:8080/"
        },
        "id": "jU44xrUtZb4k",
        "outputId": "0c694ae8-fe12-4f49-e5e3-2be732e17943"
      },
      "outputs": [
        {
          "name": "stdout",
          "output_type": "stream",
          "text": [
            "+--------------------+--------------------+------------------+------------------+-----+---------------+\n",
            "|                  ID|              comuna|           latitud|          longitud|event|           grid|\n",
            "+--------------------+--------------------+------------------+------------------+-----+---------------+\n",
            "|00005fe9d2e7a9d12...|5fa3a58d4e35efd78...|342015.01299357676|6298414.1473696055|  [2]| {125969, 6841}|\n",
            "|000271a03b6ea2b4c...|4a8bc878fecae0db7...| 339439.8191546541| 6294442.820354654|  [2]| {125889, 6789}|\n",
            "|0002df5d589671f89...|192579a17a7c6faf9...|344142.63802056597| 6298069.790666015|  [2]| {125962, 6883}|\n",
            "|0003fdbfd1b04a1f0...|28c2b23257ff4840a...| 345955.5261761797|  6300707.17787618|  [2]| {126015, 6920}|\n",
            "|000b1292f1fce506c...|1663f043b1b1201a0...| 352780.2597005477| 6299127.371464686|  [2]| {125983, 7056}|\n",
            "|0015c43ceb8d6e183...|4a8bc878fecae0db7...|335728.43385461404| 6289345.378554614|  [2]| {125787, 6715}|\n",
            "|0018b4d36f7a0d47d...|b13b671cb296c1ce5...| 355921.8515706076|   6301642.6705911|  [2]| {126033, 7119}|\n",
            "|001a8f4911fc34635...|a6dec3b760d21fe5c...| 297975.6097691691| 6125946.879369169|  [2]| {122519, 5960}|\n",
            "|0023a4c08f1eae460...|192579a17a7c6faf9...| 346173.3764405539| 6297799.684540553|  [2]| {125956, 6924}|\n",
            "|00245e8b54c8f9395...|071f5915a5f86e38e...| 506528.8152228764| 7518206.706721204|  [2]|{150365, 10131}|\n",
            "+--------------------+--------------------+------------------+------------------+-----+---------------+\n",
            "only showing top 10 rows\n",
            "\n"
          ]
        }
      ],
      "source": [
        "grid_df.show(10)"
      ]
    },
    {
      "cell_type": "markdown",
      "metadata": {
        "id": "2v5j-Uk7aycH"
      },
      "source": [
        "Encontrar la distancia para los puntos, solo en regiones adyacentes, pues sabemos que todos los puntos más cercanos a 50m están en las regiones adyacentes.\n",
        "\n"
      ]
    },
    {
      "cell_type": "code",
      "execution_count": 10,
      "metadata": {
        "id": "NNZFNpK6dkNQ"
      },
      "outputs": [],
      "source": [
        "\n",
        "\n",
        "def calculate_distances(grid_df: DataFrame) -> DataFrame:\n",
        "    \"\"\"\n",
        "    Calcula la distancia entre clientes en grid_df a clientes con eventos en grid_df en un radio de 50 metros,\n",
        "    considerando solo los puntos dentro del mismo grid o en grids adyacentes.\n",
        "    También elimina filas donde ID_geo == ID_event (mismo cliente).\n",
        "\n",
        "    :param grid_df: DataFrame con las columnas ['ID', 'comuna', 'latitud', 'longitud', 'event', 'grid']\n",
        "    :return: DataFrame con las columnas ['ID_geo', 'comuna', 'latitude_geo', 'longitude_geo',\n",
        "                                         'ID_event', 'latitude_event', 'longitude_event', 'event', 'distance']\n",
        "    \"\"\"\n",
        "\n",
        "    # Extraer las coordenadas del grid como columnas separadas con sus nombres reales\n",
        "    grid_df = grid_df.withColumn(\"grid_x\", col(\"grid.col1\")) \\\n",
        "                     .withColumn(\"grid_y\", col(\"grid.col2\"))\n",
        "\n",
        "    # Filtrar clientes que tienen eventos\n",
        "    events_df = grid_df.filter(col(\"event\").isNotNull() & (col(\"event\") != array()))\n",
        "\n",
        "    # Hacer un self-join en la misma comuna y solo en grids cercanos\n",
        "    distance_df = grid_df.alias(\"g1\").join(\n",
        "        events_df.alias(\"g2\"),\n",
        "        (col(\"g1.comuna\") == col(\"g2.comuna\")) &  # Solo en la misma comuna\n",
        "        (\n",
        "            (col(\"g1.grid_x\") == col(\"g2.grid_x\")) & (abs(col(\"g1.grid_y\") - col(\"g2.grid_y\")) <= 1) |\n",
        "            (col(\"g1.grid_y\") == col(\"g2.grid_y\")) & (abs(col(\"g1.grid_x\") - col(\"g2.grid_x\")) <= 1) |\n",
        "            (abs(col(\"g1.grid_x\") - col(\"g2.grid_x\")) == 1) & (abs(col(\"g1.grid_y\") - col(\"g2.grid_y\")) == 1)\n",
        "        ),\n",
        "        \"inner\"\n",
        "    ).filter(col(\"g1.ID\") != col(\"g2.ID\"))  # Eliminar filas donde ID_geo == ID_event\n",
        "\n",
        "    # Calcular la distancia Euclidiana\n",
        "    distance_df = distance_df.withColumn(\n",
        "        \"distance\",\n",
        "        sqrt(\n",
        "            pow(col(\"g1.latitud\") - col(\"g2.latitud\"), 2) +\n",
        "            pow(col(\"g1.longitud\") - col(\"g2.longitud\"), 2)\n",
        "        )\n",
        "    ).filter(col(\"distance\") <= 50)  # Filtrar solo los clientes en un radio de 50m\n",
        "\n",
        "    # Seleccionar las columnas finales\n",
        "    distance_df = distance_df.select(\n",
        "        col(\"g1.ID\").alias(\"ID_geo\"),\n",
        "        col(\"g1.comuna\"),\n",
        "        col(\"g1.latitud\").alias(\"latitude_geo\"),\n",
        "        col(\"g1.longitud\").alias(\"longitude_geo\"),\n",
        "        col(\"g2.ID\").alias(\"ID_event\"),\n",
        "        col(\"g2.latitud\").alias(\"latitude_event\"),\n",
        "        col(\"g2.longitud\").alias(\"longitude_event\"),\n",
        "        col(\"g2.event\"),\n",
        "        col(\"distance\")\n",
        "    )\n",
        "\n",
        "    return distance_df.withColumn(\"date_processed\", current_date()) #Agregar fecha para mantener track semanal\n",
        "\n"
      ]
    },
    {
      "cell_type": "code",
      "execution_count": 11,
      "metadata": {
        "colab": {
          "base_uri": "https://localhost:8080/"
        },
        "id": "Rn_c1-JydvR6",
        "outputId": "d76a8e92-0799-4f3c-dc58-33d44e906e56"
      },
      "outputs": [
        {
          "name": "stdout",
          "output_type": "stream",
          "text": [
            "Number of Rows = 373063\n",
            "+--------------------+--------------------+------------------+------------------+--------------------+------------------+-----------------+-----+------------------+--------------+\n",
            "|              ID_geo|              comuna|      latitude_geo|     longitude_geo|            ID_event|    latitude_event|  longitude_event|event|          distance|date_processed|\n",
            "+--------------------+--------------------+------------------+------------------+--------------------+------------------+-----------------+-----+------------------+--------------+\n",
            "|00944c192e588e812...|f3de540ebefb09aaf...|358859.89315310353| 6307671.723495424|773d9d14c68cc25bc...| 358857.0619159535|6307696.733227695|  [2]|  25.1694777874695|    2025-02-22|\n",
            "|00944c192e588e812...|f3de540ebefb09aaf...|358859.89315310353| 6307671.723495424|657b8c452fcae8946...|358857.83758169226|6307697.508893435|  [2]|25.867201712157765|    2025-02-22|\n",
            "|00e7887af5140e340...|f3de540ebefb09aaf...| 358451.6623842446| 6307001.593334052|aa41f8a93356154a3...| 358485.0771070226|6307002.025413607|  [2]| 33.41751623131583|    2025-02-22|\n",
            "|0129ba9267d30b631...|f3de540ebefb09aaf...| 358849.7154500834|6307689.3867618255|773d9d14c68cc25bc...| 358857.0619159535|6307696.733227695|  [2]|10.389471668838654|    2025-02-22|\n",
            "|0129ba9267d30b631...|f3de540ebefb09aaf...| 358849.7154500834|6307689.3867618255|657b8c452fcae8946...|358857.83758169226|6307697.508893435|  [2]|11.486428677003873|    2025-02-22|\n",
            "|016130da1999c5490...|f3de540ebefb09aaf...| 358665.9364478129|  6308296.93945967|38df863bfeedd3663...| 358665.1161263099|6308296.119138167|  [2]|1.1601097951013788|    2025-02-22|\n",
            "|0179f55d98253796d...|f3de540ebefb09aaf...|359414.84126867633|6307470.8548686765|831328e39ea1c3103...|359397.88991266355|6307453.904162407|  [2]|23.972378140477733|    2025-02-22|\n",
            "|018d631dacc936016...|f3de540ebefb09aaf...|359895.13540077006| 6306987.431800771|40d7b4c7629070e13...| 359869.3480141966|6306952.949238877|  [2]|43.058522745738635|    2025-02-22|\n",
            "|0251a397c8195d21f...|f3de540ebefb09aaf...| 360846.2999590785| 6307307.445947205|6595980dd31cf328b...|360834.80809771427|6307280.748997714|  [2]| 29.06527119613006|    2025-02-22|\n",
            "|0251a397c8195d21f...|f3de540ebefb09aaf...| 360846.2999590785| 6307307.445947205|30e311216ffc12b91...|360833.20278641564|6307279.143686416|  [2]| 31.18579640692327|    2025-02-22|\n",
            "+--------------------+--------------------+------------------+------------------+--------------------+------------------+-----------------+-----+------------------+--------------+\n",
            "only showing top 10 rows\n",
            "\n"
          ]
        }
      ],
      "source": [
        "dist_df = calculate_distances(grid_df)\n",
        "print(f\"Number of Rows = {dist_df.count()}\")\n"
      ]
    },
    {
      "cell_type": "code",
      "execution_count": 15,
      "metadata": {
        "colab": {
          "base_uri": "https://localhost:8080/"
        },
        "id": "QbGq0vHgVsXR",
        "outputId": "cdf50e97-4890-4d84-ebaa-da8da2d3c721"
      },
      "outputs": [
        {
          "name": "stdout",
          "output_type": "stream",
          "text": [
            "+--------------------+--------------------+------------------+------------------+--------------------+------------------+------------------+------------------+--------------+----------------------+----------------------+\n",
            "|              ID_geo|              comuna|      latitude_geo|     longitude_geo|            ID_event|    latitude_event|   longitude_event|          distance|date_processed|number_of_type1_events|number_of_type2_events|\n",
            "+--------------------+--------------------+------------------+------------------+--------------------+------------------+------------------+------------------+--------------+----------------------+----------------------+\n",
            "|00944c192e588e812...|f3de540ebefb09aaf...|358859.89315310353| 6307671.723495424|773d9d14c68cc25bc...| 358857.0619159535| 6307696.733227695|  25.1694777874695|    2025-02-22|                     0|                     1|\n",
            "|00944c192e588e812...|f3de540ebefb09aaf...|358859.89315310353| 6307671.723495424|657b8c452fcae8946...|358857.83758169226| 6307697.508893435|25.867201712157765|    2025-02-22|                     0|                     1|\n",
            "|00e7887af5140e340...|f3de540ebefb09aaf...| 358451.6623842446| 6307001.593334052|aa41f8a93356154a3...| 358485.0771070226| 6307002.025413607| 33.41751623131583|    2025-02-22|                     0|                     1|\n",
            "|0129ba9267d30b631...|f3de540ebefb09aaf...| 358849.7154500834|6307689.3867618255|773d9d14c68cc25bc...| 358857.0619159535| 6307696.733227695|10.389471668838654|    2025-02-22|                     0|                     1|\n",
            "|0129ba9267d30b631...|f3de540ebefb09aaf...| 358849.7154500834|6307689.3867618255|657b8c452fcae8946...|358857.83758169226| 6307697.508893435|11.486428677003873|    2025-02-22|                     0|                     1|\n",
            "|016130da1999c5490...|f3de540ebefb09aaf...| 358665.9364478129|  6308296.93945967|38df863bfeedd3663...| 358665.1161263099| 6308296.119138167|1.1601097951013788|    2025-02-22|                     0|                     1|\n",
            "|0179f55d98253796d...|f3de540ebefb09aaf...|359414.84126867633|6307470.8548686765|831328e39ea1c3103...|359397.88991266355| 6307453.904162407|23.972378140477733|    2025-02-22|                     0|                     1|\n",
            "|018d631dacc936016...|f3de540ebefb09aaf...|359895.13540077006| 6306987.431800771|40d7b4c7629070e13...| 359869.3480141966| 6306952.949238877|43.058522745738635|    2025-02-22|                     0|                     1|\n",
            "|0251a397c8195d21f...|f3de540ebefb09aaf...| 360846.2999590785| 6307307.445947205|6595980dd31cf328b...|360834.80809771427| 6307280.748997714| 29.06527119613006|    2025-02-22|                     0|                     1|\n",
            "|0251a397c8195d21f...|f3de540ebefb09aaf...| 360846.2999590785| 6307307.445947205|30e311216ffc12b91...|360833.20278641564| 6307279.143686416| 31.18579640692327|    2025-02-22|                     0|                     1|\n",
            "|02549a23f50221709...|f3de540ebefb09aaf...|359925.86814273143|6306888.1335266605|453c86d12caa4dfdd...| 359928.3391364834| 6306890.603036484|3.4934637380826428|    2025-02-22|                     0|                     2|\n",
            "|02c14a21d7aceda01...|f3de540ebefb09aaf...|359643.18557713676| 6310541.605150887|20193466688518c3e...|  359655.158401368| 6310559.342601367|21.400132467331982|    2025-02-22|                     0|                     1|\n",
            "|02c14a21d7aceda01...|f3de540ebefb09aaf...|359643.18557713676| 6310541.605150887|7952cef6e8b3b41c8...| 359670.7573177574|  6310561.79975745|34.176351693678804|    2025-02-22|                     0|                     1|\n",
            "|03016bc75e8d78eb8...|f3de540ebefb09aaf...|358319.18747483974| 6308862.987894298|c7f699727927d3db2...|358316.16964519257|6308867.2165451925| 5.195073066924579|    2025-02-22|                     1|                     0|\n",
            "|033f5d4336ab29458...|f3de540ebefb09aaf...| 360878.2034780265| 6307265.342035555|6595980dd31cf328b...|360834.80809771427| 6307280.748997714|46.049250975607606|    2025-02-22|                     0|                     1|\n",
            "|033f5d4336ab29458...|f3de540ebefb09aaf...| 360878.2034780265| 6307265.342035555|30e311216ffc12b91...|360833.20278641564| 6307279.143686416|  47.0696060311334|    2025-02-22|                     0|                     1|\n",
            "|037629073d0244a98...|f3de540ebefb09aaf...| 359424.5986762269| 6307465.470063623|831328e39ea1c3103...|359397.88991266355| 6307453.904162407| 29.10546550091203|    2025-02-22|                     0|                     1|\n",
            "|039b2ce881cfafd9d...|f3de540ebefb09aaf...|360001.07126684615|  6306807.96425084|b859fe8eeaabff756...| 359994.1082785441| 6306800.995078544| 9.851526205997693|    2025-02-22|                     0|                     1|\n",
            "|03e12929f1b1e75cf...|f3de540ebefb09aaf...| 358936.7024866252| 6307182.966186625|331847402856c03ec...| 358933.6637504356| 6307179.927450435| 4.297421931887375|    2025-02-22|                     0|                     1|\n",
            "|05ebf1b649f9d09d2...|f3de540ebefb09aaf...| 358937.3250416882| 6307183.590020097|331847402856c03ec...| 358933.6637504356| 6307179.927450435|  5.17875179584461|    2025-02-22|                     0|                     1|\n",
            "|06653478ee552f749...|f3de540ebefb09aaf...|  362067.095101108| 6309542.101174612|ba741f3a7790dd8a6...| 362069.4859190498|  6309535.01396788| 7.479606252109685|    2025-02-22|                     0|                     1|\n",
            "|067d5b089e87f6117...|f3de540ebefb09aaf...|  360808.719429321| 6307351.241195493|f1f91a514021836a4...|  360813.738196916| 6307356.259963089| 7.097609199453536|    2025-02-22|                     1|                     0|\n",
            "|067d5b089e87f6117...|f3de540ebefb09aaf...|  360808.719429321| 6307351.241195493|128b489933a0513b7...| 360828.9580165607| 6307364.191443403| 24.02726231567165|    2025-02-22|                     0|                     1|\n",
            "|06c72c70c8bd70c0e...|f3de540ebefb09aaf...|  359123.212554307| 6306567.171001749|a4c46b60b0481646b...|359137.10123913805| 6306574.036487247|15.492916363798775|    2025-02-22|                     0|                     1|\n",
            "|06c8ba28aca74900c...|f3de540ebefb09aaf...|359801.46776195377| 6307063.094927874|d4b60832b4475333d...|359804.04550396255| 6307065.672669883| 3.645477708914539|    2025-02-22|                     0|                     1|\n",
            "+--------------------+--------------------+------------------+------------------+--------------------+------------------+------------------+------------------+--------------+----------------------+----------------------+\n",
            "only showing top 25 rows\n",
            "\n"
          ]
        }
      ],
      "source": [
        "#Hacer mas sencillas las queries -> crear columnas de numero de eventos.\n",
        "def add_event_counts(df: DataFrame) -> DataFrame:\n",
        "    \"\"\"\n",
        "    Dado un DataFrame que contiene la columna 'event' (un collect_list de 1s y 2s),\n",
        "    crea dos columnas nuevas con el conteo de 1s y 2s y elimina la columna 'event'.\n",
        "    \"\"\"\n",
        "    df_new = (\n",
        "        df\n",
        "        # Cuenta el número de 1s en la lista\n",
        "        .withColumn(\"number_of_type1_events\", size(expr(\"filter(event, x -> x == 1)\")))\n",
        "        # Cuenta el número de 2s en la lista\n",
        "        .withColumn(\"number_of_type2_events\", size(expr(\"filter(event, x -> x == 2)\")))\n",
        "        # Elimina la columna original event\n",
        "        .drop(\"event\")\n",
        "    )\n",
        "    return df_new\n",
        "\n",
        "final_df = add_event_counts(dist_df)\n",
        "final_df.show(25)\n"
      ]
    },
    {
      "cell_type": "markdown",
      "metadata": {
        "id": "0aWB0UjhKrcR"
      },
      "source": [
        "Guardar las tablas para los diferentes equipos\n",
        "\n",
        "1. Data scientists: Toda la información - muy granular. Archivo tipo CSV por facilidad\n",
        "2. Analistas: Más agregada Archivo tipo CSV por facilidad\n",
        "\n",
        "Se propone agregar columna de fecha para llevar registro de las semanas\n"
      ]
    },
    {
      "cell_type": "code",
      "execution_count": 24,
      "metadata": {
        "id": "K6z2-in_fxvK"
      },
      "outputs": [],
      "source": [
        "#Para los cientificos de datos\n",
        "\n",
        "final_df.write.mode(\"append\").csv(\"/processed_data/csv/\", header=True)\n",
        "\n",
        "#Para los analistas\n",
        "\n",
        "# Crear un nuevo DataFrame con solo las columnas requeridas para los analistas\n",
        "dist_simplified_df = final_df.select(\n",
        "    col(\"ID_geo\"),\n",
        "    col(\"comuna\"),\n",
        "    col(\"ID_event\"),\n",
        "    col(\"distance\"),\n",
        "    col(\"date_processed\"),\n",
        "    col(\"number_of_type1_events\"),\n",
        "    col(\"number_of_type2_events\")\n",
        ")\n",
        "# Mostrar los primeros registros para verificar\n",
        "dist_simplified_df.write.mode(\"append\").csv(\"/processed_data_analista/csv/\", header=True)\n",
        "\n"
      ]
    },
    {
      "cell_type": "code",
      "execution_count": null,
      "metadata": {
        "id": "nY0uvzFxGJgZ"
      },
      "outputs": [],
      "source": [
        "#Enviar los dos df a buckets en AWS"
      ]
    },
    {
      "cell_type": "markdown",
      "metadata": {
        "id": "FRD33bKV30np"
      },
      "source": [
        "# Connect SQL Database to SQL (SQL Execution)"
      ]
    },
    {
      "cell_type": "code",
      "execution_count": 17,
      "metadata": {
        "colab": {
          "base_uri": "https://localhost:8080/"
        },
        "id": "pw5Qeh8H4lD0",
        "outputId": "1de13247-bb0b-4c87-b75e-df17323dbf21"
      },
      "outputs": [
        {
          "name": "stdout",
          "output_type": "stream",
          "text": [
            "Opened database successfully\n"
          ]
        }
      ],
      "source": [
        "# Connection sqlite and init Database\n",
        "import sqlite3\n",
        "\n",
        "conn = sqlite3.connect('datalake_stage.db')\n",
        "print(\"Opened database successfully\");\n",
        "\n",
        "curs = conn.cursor()\n"
      ]
    },
    {
      "cell_type": "markdown",
      "metadata": {
        "id": "uz8D4X8fIeLo"
      },
      "source": [
        "Conectar las tablas a SQL"
      ]
    },
    {
      "cell_type": "code",
      "execution_count": 18,
      "metadata": {
        "colab": {
          "base_uri": "https://localhost:8080/"
        },
        "id": "0D7vA-htJbFh",
        "outputId": "45c59523-05c6-434b-95cd-5fd66913b7a7"
      },
      "outputs": [
        {
          "name": "stdout",
          "output_type": "stream",
          "text": [
            "Tabla 'labels' cargada en SQLite\n",
            "Tabla 'geo' cargada en SQLite\n",
            "Tabla 'dist' cargada en SQLite\n",
            "Tabla 'combined' cargada en SQLite\n"
          ]
        }
      ],
      "source": [
        "labels_df_pandas = labels.toPandas()\n",
        "labels_df_pandas.to_sql(\"labels\", conn, if_exists=\"replace\", index=False)\n",
        "print(\"Tabla 'labels' cargada en SQLite\")\n",
        "\n",
        "geo_df_pandas = geo.toPandas()\n",
        "geo_df_pandas.to_sql(\"geo\", conn, if_exists=\"replace\", index=False)\n",
        "print(\"Tabla 'geo' cargada en SQLite\")\n",
        "\n",
        "\n",
        "dist_df_pandas = final_df.toPandas()\n",
        "dist_df_pandas.to_sql(\"dist\", conn, if_exists=\"replace\", index=False)\n",
        "print(\"Tabla 'dist' cargada en SQLite\")\n",
        "\n",
        "\n",
        "#Esta es la tabla en la que geo y labels están unidas, limpiada de duplicados\n",
        "cleaned_df = cleaned_df.withColumn(\"event\", expr(\"concat_ws(',', event)\")) #Cambia el tipo de event\n",
        "combined_df_pandas = cleaned_df.toPandas()\n",
        "combined_df_pandas.to_sql(\"combined\", conn, if_exists=\"replace\", index=False)\n",
        "print(\"Tabla 'combined' cargada en SQLite\")"
      ]
    },
    {
      "cell_type": "markdown",
      "metadata": {
        "id": "UT1ns4v0Ijp9"
      },
      "source": [
        "Pruebas de validación"
      ]
    },
    {
      "cell_type": "code",
      "execution_count": 19,
      "metadata": {
        "colab": {
          "base_uri": "https://localhost:8080/"
        },
        "id": "8-9-3cq8Ilqz",
        "outputId": "33c95827-da57-4fba-e88d-a29fcb40dba8"
      },
      "outputs": [
        {
          "name": "stdout",
          "output_type": "stream",
          "text": [
            "Total de filas en labels: 84435\n",
            "Total de filas en geo: 611959\n",
            "Clientes en 'combined' con duplicados: []\n",
            "Clientes con datos nulos en distance_results: []\n",
            "Clientes que están en labels y no en geo: [(66954,)]\n"
          ]
        }
      ],
      "source": [
        "curs.execute(\"SELECT COUNT(*) FROM labels\")\n",
        "print(\"Total de filas en labels:\", curs.fetchone()[0])\n",
        "\n",
        "curs.execute(\"SELECT COUNT(*) FROM geo\")\n",
        "print(\"Total de filas en geo:\", curs.fetchone()[0])\n",
        "\n",
        "curs.execute(\"\"\"\n",
        "    SELECT ID, COUNT(*)\n",
        "    FROM combined ID\n",
        "    GROUP BY ID\n",
        "    HAVING COUNT(*) > 1\n",
        "\"\"\")\n",
        "print(\"Clientes en 'combined' con duplicados:\", curs.fetchall())\n",
        "\n",
        "#Revisar si hay valores NULL en los ID de la tabla creada\n",
        "curs.execute(\"\"\"\n",
        "    SELECT *\n",
        "    FROM dist\n",
        "    WHERE ID_geo IS NULL OR ID_event IS NULL\n",
        "\"\"\")\n",
        "print(\"Clientes con datos nulos en distance_results:\", curs.fetchall())\n",
        "\n",
        "#Verificar si todos los labels tienen un id en GEO (podemos ver que no es el caso)\n",
        "curs.execute(\"\"\"\n",
        "    SELECT COUNT(*)\n",
        "    FROM labels l\n",
        "    LEFT JOIN geo g ON l.ID = g.ID\n",
        "    WHERE g.ID IS NULL;\n",
        "\"\"\")\n",
        "print(\"Clientes que están en labels y no en geo:\", curs.fetchall())"
      ]
    },
    {
      "cell_type": "markdown",
      "metadata": {
        "id": "3x3mQT1qLft5"
      },
      "source": [
        "Encontrar las top 20 comunas con evento 2"
      ]
    },
    {
      "cell_type": "code",
      "execution_count": 20,
      "metadata": {
        "colab": {
          "base_uri": "https://localhost:8080/"
        },
        "id": "JjV61CI6Xo39",
        "outputId": "a54787e1-fe4c-4a4b-849b-9d3c0d3e5a20"
      },
      "outputs": [
        {
          "name": "stdout",
          "output_type": "stream",
          "text": [
            "Top 20 comunas con más eventos tipo 2:\n",
            "('192579a17a7c6faf9fa70fcff6bc208aa9187dbe4ea70f69ffd991d180c1f823', 57780)\n",
            "('d6914cd246f4202bf3291abeba40824e6148f7d4042302bcdb449ddf7f5183e1', 28667)\n",
            "('b13b671cb296c1ce5eb94117f308118364cd258b322f61872cc7364dfcf5f2ad', 26748)\n",
            "('630d8cf93464322637f0c27c04d65fd7565a04c43decc27f0f5685a689c23cb2', 22737)\n",
            "('1663f043b1b1201a010d6965765c283b6e068ff0cd071fb7aa6ed1a7fd120172', 18831)\n",
            "('b8df8fb0f19ee92b800af6f7bd277b2c6c0f660ff2ea13ae5bdaba762f92abf2', 15113)\n",
            "('5029af19eafc8e0cf42b8bb6b2d05e7fb8c106e5926a2a03e541916e3f8812aa', 10363)\n",
            "('0bd00d09bd2a382f3f8967d5dd3189af9d2573f6d49a0ba165ffa864cd4fb8bd', 9988)\n",
            "('8e7e23148e55a25a0a788a413727bcf5079c21bc5f7310187fd4132c15404052', 8904)\n",
            "('28c2b23257ff4840a5fb733bda4ffa4757d57a4e923ea8b7cc35556e76e80f0f', 8011)\n",
            "('cc80409f27e2a1b5e3a0feeb3f976bdb13e93ce8144e686c8abdf6762ba6a1a7', 7749)\n",
            "('4a8bc878fecae0db731883c790c3fdfc623220d388a990cf3be6429f214048ad', 7577)\n",
            "('5fa3a58d4e35efd789c577a6f721358b0923c32a6a48f87ddae3b28d285a60fc', 5750)\n",
            "('a532cdd0fac620d3932252b65681c993258383ce0ca78f4933e65185c3cfc462', 5558)\n",
            "('0431501957fefa14ae758497b2d45c95854c570baca6a18f6b5071664b36240e', 4901)\n",
            "('facd8f3822689f21d80a4042339735eec30db3bd282c73bb22c4efccdb327147', 4778)\n",
            "('4233e96b4dacba4ab73e09fdd5bddc2a2e780643a40962ab4c46cb132310108a', 4763)\n",
            "('87ed4f87a842f25728bbf37705ee61260473c042dee8c67308e3b7e9b5628028', 3849)\n",
            "('071f5915a5f86e38e578779469198ac892d1927cc9a426eac32c9d72dd9ffbb2', 3751)\n",
            "('f2edf68ccfd45c7859c1a432a03e63dd831ba6b17bfcf3b7068612eed08830b8', 3318)\n"
          ]
        }
      ],
      "source": [
        "query_top_20_communes = \"\"\"\n",
        "  SELECT\n",
        "    comuna,\n",
        "    SUM(number_of_type2_events) AS total_eventos\n",
        "  FROM dist\n",
        "  GROUP BY comuna\n",
        "  ORDER BY total_eventos DESC\n",
        "  LIMIT 20;\n",
        "\"\"\"\n",
        "\n",
        "curs.execute(query_top_20_communes)\n",
        "top_20_communes = curs.fetchall()\n",
        "\n",
        "print(\"Top 20 comunas con más eventos tipo 2:\")\n",
        "for row in top_20_communes:\n",
        "    print(row)\n"
      ]
    },
    {
      "cell_type": "markdown",
      "metadata": {
        "id": "H2_b-LJSNb_h"
      },
      "source": [
        "Calcular datos de eventos tipo 1"
      ]
    },
    {
      "cell_type": "code",
      "execution_count": 23,
      "metadata": {
        "colab": {
          "base_uri": "https://localhost:8080/",
          "height": 211
        },
        "id": "4zx0G_HBYJr6",
        "outputId": "e79e4279-d9c2-477c-aefe-23d8cc679b53"
      },
      "outputs": [
        {
          "ename": "OperationalError",
          "evalue": "table eventos_tipo_1 already exists",
          "output_type": "error",
          "traceback": [
            "\u001b[0;31m---------------------------------------------------------------------------\u001b[0m",
            "\u001b[0;31mOperationalError\u001b[0m                          Traceback (most recent call last)",
            "\u001b[0;32m<ipython-input-23-e5870c93c79a>\u001b[0m in \u001b[0;36m<cell line: 0>\u001b[0;34m()\u001b[0m\n\u001b[1;32m     20\u001b[0m \"\"\"\n\u001b[1;32m     21\u001b[0m \u001b[0;34m\u001b[0m\u001b[0m\n\u001b[0;32m---> 22\u001b[0;31m \u001b[0mcurs\u001b[0m\u001b[0;34m.\u001b[0m\u001b[0mexecute\u001b[0m\u001b[0;34m(\u001b[0m\u001b[0mquery_event1_communes\u001b[0m\u001b[0;34m)\u001b[0m\u001b[0;34m\u001b[0m\u001b[0;34m\u001b[0m\u001b[0m\n\u001b[0m\u001b[1;32m     23\u001b[0m \u001b[0;34m\u001b[0m\u001b[0m\n\u001b[1;32m     24\u001b[0m \u001b[0;31m# Cargar los datos en un DataFrame de Pandas\u001b[0m\u001b[0;34m\u001b[0m\u001b[0;34m\u001b[0m\u001b[0m\n",
            "\u001b[0;31mOperationalError\u001b[0m: table eventos_tipo_1 already exists"
          ]
        }
      ],
      "source": [
        "import pandas as pd\n",
        "\n",
        "# Ejecuta la consulta para crear la tabla\n",
        "query_event1_communes = \"\"\"\n",
        "    CREATE TABLE eventos_tipo_1 AS\n",
        "    SELECT\n",
        "        comuna,\n",
        "        SUM(number_of_type1_events) AS total_events,\n",
        "        SUM(latitude_event * number_of_type1_events)\n",
        "          / NULLIF(SUM(number_of_type1_events), 0) AS avg_latitude,\n",
        "        MAX(latitude_event) AS max_latitude,\n",
        "        MIN(latitude_event) AS min_latitude,\n",
        "        SUM(longitude_event * number_of_type1_events)\n",
        "          / NULLIF(SUM(number_of_type1_events), 0) AS avg_longitude,\n",
        "        MAX(longitude_event) AS max_longitude,\n",
        "        MIN(longitude_event) AS min_longitude\n",
        "    FROM dist\n",
        "    WHERE number_of_type1_events > 0\n",
        "    GROUP BY comuna;\n",
        "\"\"\"\n",
        "\n",
        "curs.execute(query_event1_communes)\n",
        "\n",
        "# Cargar los datos en un DataFrame de Pandas\n",
        "df = pd.read_sql_query(\"SELECT * FROM eventos_tipo_1\", conn)\n",
        "\n",
        "# Renombrar las columnas para mayor legibilidad\n",
        "df.columns = [\n",
        "    \"Comuna\",\n",
        "    \"num_eventos_tipo1\",\n",
        "    \"avg_latitude\",\n",
        "    \"max_latitude\",\n",
        "    \"min_latitude\",\n",
        "    \"avg_longitude\",\n",
        "    \"max_longitude\",\n",
        "    \"min_longitude\"\n",
        "]\n",
        "\n",
        "print(df.head())\n"
      ]
    },
    {
      "cell_type": "code",
      "execution_count": null,
      "metadata": {
        "id": "DaKvotDN30nq"
      },
      "outputs": [],
      "source": [
        "# Close connection to save the db in file datalake_stage.db\n",
        "conn.close()"
      ]
    },
    {
      "cell_type": "code",
      "execution_count": null,
      "metadata": {
        "colab": {
          "base_uri": "https://localhost:8080/"
        },
        "id": "iMcVaDcXtu_x",
        "outputId": "b764046c-62ff-4ff5-cd61-6e79d7b068d9"
      },
      "outputs": [
        {
          "name": "stdout",
          "output_type": "stream",
          "text": [
            "The sql extension is already loaded. To reload it, use:\n",
            "  %reload_ext sql\n"
          ]
        }
      ],
      "source": [
        "# We will first load an sql extension into our environment\n",
        "# This extension will allow us to work with sql on Colaboratory\n",
        "#\n",
        "%load_ext sql\n",
        "\n",
        "# We will then connect to our in memory sqlite database\n",
        "# NB: This database will cease to exist as soon as the database connection is closed.\n",
        "# We will learn more about how databases are created later in prep.\n",
        "#\n",
        "%sql sqlite:///datalake_stage.db\n",
        "# Nothing to do here"
      ]
    },
    {
      "cell_type": "code",
      "execution_count": null,
      "metadata": {
        "id": "wfv5I5bLIC9E"
      },
      "outputs": [],
      "source": [
        " %reload_ext sql"
      ]
    }
  ],
  "metadata": {
    "colab": {
      "provenance": []
    },
    "kernelspec": {
      "display_name": "Python 3",
      "name": "python3"
    },
    "language_info": {
      "name": "python"
    }
  },
  "nbformat": 4,
  "nbformat_minor": 0
}
